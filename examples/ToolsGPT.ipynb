{
 "cells": [
  {
   "attachments": {},
   "cell_type": "markdown",
   "metadata": {},
   "source": [
    "# Install VectorVault"
   ]
  },
  {
   "cell_type": "code",
   "execution_count": null,
   "metadata": {},
   "outputs": [],
   "source": [
    "!pip install vector-vault "
   ]
  },
  {
   "cell_type": "code",
   "execution_count": null,
   "metadata": {},
   "outputs": [],
   "source": [
    "%env OPENAI_API_KEY = YOUR_OPENAI_API_KEY"
   ]
  },
  {
   "attachments": {},
   "cell_type": "markdown",
   "metadata": {},
   "source": [
    "<br>\n",
    "<br>\n",
    "\n",
    "## Get API key to access the Vault Cloud\n",
    "\n",
    "Go to [app.vectorvault.io](https://app.vectorvault.io) to register. Enter your name and email and you'll get an API key emailed to you instantly."
   ]
  },
  {
   "cell_type": "code",
   "execution_count": null,
   "metadata": {},
   "outputs": [],
   "source": [
    "# alternatively, do it here\n",
    "from vectorvault import register\n",
    "from datetime import datetime\n",
    "\n",
    "register(first_name='FIRST_NAME', last_name='LAST_NAME', email='YOUR_EMAIL', password='make_a_password', \n",
    "         \n",
    "         tags=[{'ToolsGPT' : datetime.utcnow().strftime(\"%Y-%m-%d %H:%M:%S\")}])"
   ]
  },
  {
   "attachments": {},
   "cell_type": "markdown",
   "metadata": {},
   "source": [
    "<br>\n",
    "\n",
    "# Connect to VectorVault\n",
    "In the following code, we import the main Vault class to connect to a vault as well as set our OpenAI API key as an environment varible. We will need that set to process the vectors later."
   ]
  },
  {
   "cell_type": "code",
   "execution_count": null,
   "metadata": {},
   "outputs": [],
   "source": [
    "from vectorvault import Vault, ToolsGPT\n",
    "vault = Vault(user='YOUR_EMAIL', api_key='YOUR_VECTOR_VAULT_API_KEY', vault='webdump', verbose=True)\n",
    "\n",
    "tools = ToolsGPT(verbose=True)"
   ]
  },
  {
   "cell_type": "code",
   "execution_count": null,
   "metadata": {},
   "outputs": [],
   "source": [
    "match_list = ['Quantum Physics', 'Street Art', 'Permaculture Gardening', 'Nordic Mythology', 'Slow Cooking']\n",
    "match_text = '''\n",
    "A sustainable, holistic approach to cultivating our gardens is growing in popularity - one that focuses on \n",
    "working with nature rather than against it. This method emphasizes the design of ecological and sustainable landscapes, \n",
    "akin to natural ecosystems, by mirroring their diversity and interconnections.\n",
    "\n",
    "In this system, every organism has its role in maintaining equilibrium. From the smallest insect to the largest tree, \n",
    "all elements are interconnected. Their relationships with each other are used to develop a garden that can sustain \n",
    "and renew itself without heavy human intervention.\n",
    "\n",
    "Unlike conventional horticulture practices, this method avoids the heavy use of artificial fertilizers, pesticides, or \n",
    "intensive tilling. It values biodiversity, soil health, and water conservation while employing natural pest management strategies.\n",
    "Such a garden is a vibrant tapestry of life. Fruit trees providing shade for understory crops, nitrogen-fixing plants improving \n",
    "soil fertility by their side, and the strategic placement and movement of water resources are just a few characteristics of these gardens. \n",
    "Rainwater harvesting systems and carefully designed land formations guide water to where it's needed most. This ecological method truly \n",
    "embodies the principles of sustainable living.\n",
    "'''\n",
    "\n",
    "answer = tools.get_match(match_text, match_list)\n",
    "print(answer)\n",
    "if answer in match_list:\n",
    "    print('AI is awesome')"
   ]
  },
  {
   "cell_type": "code",
   "execution_count": null,
   "metadata": {},
   "outputs": [],
   "source": [
    "content = '''\n",
    "Street Art\n",
    "\n",
    "Once a frowned upon act of defiance, street art has now stormed its way into the mainstream art scene, transforming urban \n",
    "landscapes around the globe. It's a form of expression that repurposes the concrete jungles of our cities into vibrant, \n",
    "large-scale canvases. Artists like Banksy and Shepard Fairey have used this medium to deliver powerful socio-political \n",
    "commentaries that resonate with the masses.\n",
    "\n",
    "The beauty of street art lies in its accessibility and inclusivity. It transcends the boundaries of traditional art \n",
    "galleries, making art a part of everyday life. From small, tucked away alleys to prominent cityscapes, these public \n",
    "installations challenge perceptions and inspire dialogues. Moreover, they provide an unfiltered reflection of the social \n",
    "and cultural realities of their surroundings.\n",
    "\n",
    "Street art also serves as a platform for community engagement. Many urban revitalization projects around the world \n",
    "incorporate this form of artistic expression to bring together diverse communities. By engaging local artists and residents, \n",
    "these projects infuse new life into neglected urban spaces, turning them into hubs of creativity and cultural exchange.\n",
    "'''\n",
    "\n",
    "concept_to_rate_content_for = \"Engaging and Informative Content\"\n",
    "\n",
    "rating = tools.get_rating(content, concept_to_rate_for=concept_to_rate_content_for)\n",
    "print(rating)\n",
    "if type(rating) is int:\n",
    "    print('AI is awesome')"
   ]
  },
  {
   "cell_type": "code",
   "execution_count": null,
   "metadata": {},
   "outputs": [],
   "source": [
    "text = '''\n",
    "Pros\n",
    "1. Economic Impact: Legalizing and taxing marijuana would provide a new source of revenue for governments. It also leads to \n",
    "job creation in the new industry, from growing to sales.\n",
    "2. Medical Benefits: Medical marijuana has shown promise in treating a variety of conditions, including chronic pain, \n",
    "glaucoma, epilepsy, and PTSD. Legalization allows for easier access for patients.\n",
    "3. Regulation and Safety: Legalization allows for regulation of the product, ensuring that it meets safety standards and \n",
    "isn't laced with dangerous substances. It also provides consumers with accurate information about potency.\n",
    "4. Criminal Justice: Legalization could reduce the number of marijuana-related arrests and incarcerations, which disproportionately \n",
    "impact minority communities.\n",
    "5. Research Opportunities: Easier access would allow for more comprehensive scientific research on the effects and potential medical uses of marijuana.\n",
    "\n",
    "Cons\n",
    "1. Health Risks: Marijuana use is linked to a range of short-term and long-term health effects, including respiratory issues, \n",
    "mental health problems, and potential dependency.\n",
    "2. Impaired Driving: There's concern that legalization may lead to an increase in accidents caused by impaired driving.\n",
    "3. Youth Access and Use: With legalization, there's the potential for increased access and use among youth, which could have \n",
    "negative effects on their cognitive development.\n",
    "4. Public Health Costs: There could be increased public health costs related to treating the health effects of marijuana.\n",
    "5. Product Potency: Legal marijuana products can be significantly more potent than those traditionally available, potentially \n",
    "leading to greater health risks.\n",
    "'''\n",
    "\n",
    "question = '''\n",
    "Should marijuana be leagalized?\n",
    "'''\n",
    "\n",
    "binary_answer = tools.get_yes_no(text, question)\n",
    "print(binary_answer)\n",
    "if binary_answer == 'yes' or binary_answer == 'no':\n",
    "    print('AI is awesome')"
   ]
  },
  {
   "cell_type": "code",
   "execution_count": null,
   "metadata": {},
   "outputs": [],
   "source": [
    "categories = ['Conservation', 'Ecology', 'Geography', 'Meteorology', 'Oceanography', \n",
    "              'Pollution', 'Recycling', 'Sustainability', 'Toxicology', 'Zoology']\n",
    "\n",
    "content = \"\"\"\n",
    "Title: Quantum Computing\n",
    "\n",
    "Summary: Quantum computing leverages principles of quantum mechanics to process information. \n",
    "Unlike classical computers, which encode data into binary digits (bits), quantum computers use quantum bits, or 'qubits.' \n",
    "These have the unique property of being able to exist in multiple states at once, which enables quantum computers to solve \n",
    "complex problems much more rapidly than classical computers.\n",
    "\n",
    "Impact: While still in early stages, quantum computing has the potential to revolutionize many fields, including cryptography,\n",
    " material science, and artificial intelligence.\n",
    "\"\"\"\n",
    "\n",
    "category = tools.match_or_make(content, categories)\n",
    "print(category)\n",
    "if category not in categories and len(category.split()) <= 2:\n",
    "    print('AI is awesome')"
   ]
  },
  {
   "cell_type": "code",
   "execution_count": null,
   "metadata": {},
   "outputs": [],
   "source": [
    "# if you want to delete an api key and/or get a new one:\n",
    "\n",
    "# import vectorvault\n",
    "\n",
    "# response = vectorvault.delete_key('YOUR_EMAIL', 'YOUR_VV_API_KEY')\n",
    "# print(response)\n",
    "# response = vectorvault.get_new_key('YOUR_EMAIL', 'YOUR_PASSWORD')\n",
    "# print(response)"
   ]
  }
 ],
 "metadata": {
  "kernelspec": {
   "display_name": "base",
   "language": "python",
   "name": "python3"
  },
  "language_info": {
   "codemirror_mode": {
    "name": "ipython",
    "version": 3
   },
   "file_extension": ".py",
   "mimetype": "text/x-python",
   "name": "python",
   "nbconvert_exporter": "python",
   "pygments_lexer": "ipython3",
   "version": "3.10.9"
  },
  "orig_nbformat": 4
 },
 "nbformat": 4,
 "nbformat_minor": 2
}
