{
  "cells": [
    {
      "cell_type": "markdown",
      "metadata": {
        "id": "hVxkHWHq985L"
      },
      "source": [
        "# Install VectorVault\n",
        "If you don't have an account, you can sign up for free at [VectorVault.io](https://vectorvault.io)"
      ]
    },
    {
      "cell_type": "code",
      "execution_count": null,
      "metadata": {
        "id": "gVFY2YZ8985O"
      },
      "outputs": [],
      "source": [
        "!pip install vector-vault "
      ]
    },
    {
      "cell_type": "markdown",
      "metadata": {
        "id": "OZrVjsCl985P"
      },
      "source": [
        "Set OpenAI Key Environment Variable"
      ]
    },
    {
      "cell_type": "code",
      "execution_count": null,
      "metadata": {
        "id": "D_sh9eYK985P"
      },
      "outputs": [],
      "source": [
        "%env OPENAI_API_KEY = YOUR_OPENAI_API_KEY"
      ]
    },
    {
      "cell_type": "markdown",
      "metadata": {
        "id": "sjTF-QsO985P"
      },
      "source": [
        "<br> \n",
        "\n",
        "# Download Website as Text"
      ]
    },
    {
      "cell_type": "code",
      "execution_count": null,
      "metadata": {
        "id": "BhFX0DaH985Q"
      },
      "outputs": [],
      "source": [
        "from vector_vault import download_url  # inlcuded function to \n",
        "\n",
        "url_to_question = input(\"Paste a url\")\n",
        "\n",
        "text_data = download_url(url_to_question)"
      ]
    },
    {
      "cell_type": "markdown",
      "metadata": {
        "id": "i3_KrFKi985Q"
      },
      "source": [
        "<br>\n",
        "\n",
        "# Connect to VectorVault\n",
        "If you don't have a VectorVault api key, you can sign up for free at [VectorVault.io](https://vectorvault.io)"
      ]
    },
    {
      "cell_type": "code",
      "execution_count": null,
      "metadata": {
        "id": "7dRmW0P7985Q"
      },
      "outputs": [],
      "source": [
        "from vector_vault import Vault\n",
        "\n",
        "# Create an instance of the Vault class with specified parameters\n",
        "vault = Vault(user='YOUR_VECTOR_VAULT_USER_ID', api_key='YOUR_VECTOR_VAULT_API_KEY', vault='webdump', verbose=True)\n",
        "vault.delete()"
      ]
    },
    {
      "cell_type": "markdown",
      "metadata": {
        "id": "idZ_UV5j985R"
      },
      "source": [
        "<br> \n",
        "\n",
        "# Save Website Data to Vault"
      ]
    },
    {
      "cell_type": "code",
      "execution_count": null,
      "metadata": {
        "id": "zr-Qjgr4985R"
      },
      "outputs": [],
      "source": [
        "# Get summary for all parts of the page\n",
        "summary = vault.get_chat(text_data, summary=True)\n",
        "\n",
        "text_data = summary + '\\n' + text_data\n",
        "\n",
        "# Add all the site data\n",
        "vault.add(text_data)\n",
        "\n",
        "# Get embeddings for it\n",
        "vault.get_vectors()\n",
        "\n",
        "# Save it to the Vector Vault\n",
        "vault.save()\n"
      ]
    },
    {
      "cell_type": "code",
      "execution_count": null,
      "metadata": {
        "id": "ymHX79T_985R"
      },
      "outputs": [],
      "source": [
        "# simple text wrapping function\n",
        "from vector_vault import wrap\n",
        "\n",
        "print(wrap(summary))"
      ]
    },
    {
      "cell_type": "markdown",
      "metadata": {
        "id": "s_Aq8KeI985S"
      },
      "source": [
        "<br> \n",
        "\n",
        "# Ask Your Question"
      ]
    },
    {
      "cell_type": "code",
      "execution_count": null,
      "metadata": {
        "id": "zhXyI1yi985S"
      },
      "outputs": [],
      "source": [
        "user_input = input(\"What's your question?\")\n",
        "\n",
        "# Get response from Language model\n",
        "vault_response = vault.get_chat(user_input, get_context=True, return_context=True)\n",
        "\n",
        "answer = vault_response['response']\n",
        "print(\"Question:\", f\"\\n{wrap(user_input)}\", \"\\n\\nAnswer:\", f\"\\n{wrap(answer)}\")\n",
        "\n",
        "# show the context used to generate the answer\n",
        "for item in vault_response['context']['results']:\n",
        "    print(\"\\n\\n\", f\"item {item['metadata']['item_index']}\")\n",
        "    print(item['data'])"
      ]
    },
    {
      "cell_type": "markdown",
      "metadata": {
        "id": "4TKf-Mrk985S"
      },
      "source": [
        "<br>\n",
        "\n",
        "## Continued Questioning with Chat History"
      ]
    },
    {
      "cell_type": "code",
      "execution_count": null,
      "metadata": {
        "id": "Z0yLMkSx985S"
      },
      "outputs": [],
      "source": [
        "user_input2 = input(\"What's your next question?\")\n",
        "\n",
        "history = user_input + answer\n",
        "\n",
        "# Get response from Language model\n",
        "response = vault.get_chat(user_input2, history=history, get_context=True, model='gpt-4')\n",
        "\n",
        "print(\"Question:\", f\"\\n{wrap(user_input2)}\", \"\\n\\nAnswer:\", f\"\\n{wrap(response)}\")"
      ]
    },
    {
      "cell_type": "code",
      "execution_count": null,
      "metadata": {
        "id": "SPqSIM6c985S"
      },
      "outputs": [],
      "source": [
        "user_input3 = input(\"What's your next question?\")\n",
        "\n",
        "history = history + user_input2 + response\n",
        "\n",
        "# Get response from Language model\n",
        "response = vault.get_chat(user_input3, history=history, get_context=True)\n",
        "\n",
        "print(\"Question:\", f\"\\n{wrap(user_input3)}\", \"\\n\\nAnswer:\", f\"\\n{wrap(response)}\")\n"
      ]
    }
  ],
  "metadata": {
    "kernelspec": {
      "display_name": "base",
      "language": "python",
      "name": "python3"
    },
    "language_info": {
      "codemirror_mode": {
        "name": "ipython",
        "version": 3
      },
      "file_extension": ".py",
      "mimetype": "text/x-python",
      "name": "python",
      "nbconvert_exporter": "python",
      "pygments_lexer": "ipython3",
      "version": "3.10.9"
    },
    "orig_nbformat": 4,
    "colab": {
      "provenance": []
    }
  },
  "nbformat": 4,
  "nbformat_minor": 0
}