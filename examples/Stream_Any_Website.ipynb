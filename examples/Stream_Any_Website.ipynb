{
 "cells": [
  {
   "attachments": {},
   "cell_type": "markdown",
   "metadata": {
    "colab_type": "text",
    "id": "view-in-github"
   },
   "source": [
    "<a href=\"https://colab.research.google.com/drive/1j0Wnj0qLUHgjjkNxUk82FmP9aiPnXvoH\" target=\"_parent\"><img src=\"https://colab.research.google.com/assets/colab-badge.svg\" alt=\"Open In Colab\"/></a>"
   ]
  },
  {
   "attachments": {},
   "cell_type": "markdown",
   "metadata": {},
   "source": [
    "# Install VectorVault\n",
    "If you don't have an account, you can sign up for free at [VectorVault.io](https://vectorvault.io)"
   ]
  },
  {
   "cell_type": "code",
   "execution_count": null,
   "metadata": {},
   "outputs": [],
   "source": [
    "!pip install vector-vault "
   ]
  },
  {
   "attachments": {},
   "cell_type": "markdown",
   "metadata": {},
   "source": [
    "<br>\n",
    "<br>\n",
    "\n",
    "## Get API key to access the Vault Cloud\n",
    "\n",
    "Enter your name, email, and make a password below to get an API key."
   ]
  },
  {
   "cell_type": "code",
   "execution_count": null,
   "metadata": {},
   "outputs": [],
   "source": [
    "from vectorvault import register\n",
    "\n",
    "register(first_name='John', last_name='Smith', email='john@smith.com', password='make_a_password')"
   ]
  },
  {
   "attachments": {},
   "cell_type": "markdown",
   "metadata": {},
   "source": [
    "<br>\n",
    "\n",
    "# Connect to VectorVault\n",
    "In the following code, we import the main Vault class to connect to a vault as well as set our OpenAI API key as an environment varible. We will need that set to process the vectors with `get_vectors` and use the `get_chat()` function later."
   ]
  },
  {
   "cell_type": "code",
   "execution_count": null,
   "metadata": {},
   "outputs": [],
   "source": [
    "%env OPENAI_API_KEY = YOUR_OPEN_AI_API_KEY"
   ]
  },
  {
   "cell_type": "code",
   "execution_count": null,
   "metadata": {},
   "outputs": [],
   "source": [
    "from vectorvault import Vault\n",
    "vault = Vault(user='john@smith.com', api_key='YOUR_VECTOR_VAULT_API_KEY', vault='webdump', verbose=True)\n"
   ]
  },
  {
   "attachments": {},
   "cell_type": "markdown",
   "metadata": {},
   "source": [
    "<br>\n",
    "\n",
    "# Download Website and Summarize\n",
    "We import the download_url function from the `vectorvault` package. Use the defualt url already provided to learn about NASA's Mars mission or enter a another url. The website content is downloaded and saved to a variable called \"text_data\"\n",
    "\n",
    "Then we use the `get_chat()` function with `summary=True` to get a summary of the website. This will summarize it no matter how large it is."
   ]
  },
  {
   "cell_type": "code",
   "execution_count": null,
   "metadata": {},
   "outputs": [],
   "source": [
    "from vectorvault import download_url\n",
    "\n",
    "text_data = download_url(\"https://mars.nasa.gov/\")"
   ]
  },
  {
   "cell_type": "code",
   "execution_count": null,
   "metadata": {},
   "outputs": [],
   "source": [
    "# Stream a summary of the website with the built-in function `print_stream()`, which returns the full text at the end\n",
    "summary = vault.print_stream(vault.get_chat_stream(text_data, summary=True))"
   ]
  },
  {
   "attachments": {},
   "cell_type": "markdown",
   "metadata": {},
   "source": [
    "<br> \n",
    "\n",
    "# Save Website Data to Vault"
   ]
  },
  {
   "cell_type": "code",
   "execution_count": null,
   "metadata": {},
   "outputs": [],
   "source": [
    "text_data = summary + '\\n' + text_data\n",
    "\n",
    "# Process the data with add()\n",
    "vault.add(text_data)\n",
    "\n",
    "# Get embeddings \n",
    "vault.get_vectors()\n",
    "\n",
    "# Save to Vault\n",
    "vault.save()"
   ]
  },
  {
   "attachments": {},
   "cell_type": "markdown",
   "metadata": {},
   "source": [
    "<br> \n",
    "\n",
    "# Ask Your Question"
   ]
  },
  {
   "cell_type": "code",
   "execution_count": null,
   "metadata": {},
   "outputs": [],
   "source": [
    "user_input = input(\"What's your next question?: \")\n",
    "print(\"Question:\", f\"\\n{wrap(user_input)}\")\n",
    "\n",
    "# Get response from Language model\n",
    "answer = vault.print_stream(vault.get_chat_stream(user_input, get_context=True))"
   ]
  },
  {
   "attachments": {},
   "cell_type": "markdown",
   "metadata": {},
   "source": [
    "<br>\n",
    "\n",
    "## See where the answer is coming from with `return_context=True`\n",
    "In this response, we add conversation history to to the \"get_chat()\" function. We also print the source context that the llm uses for the response. (Since the sources are returned along with the response, it comes in the form of a dictionary)"
   ]
  },
  {
   "cell_type": "code",
   "execution_count": null,
   "metadata": {},
   "outputs": [],
   "source": [
    "user_input2 = input(\"What's your next question?: \")\n",
    "print(\"Question:\", f\"\\n{wrap(user_input2)}\")\n",
    "\n",
    "history = user_input + answer\n",
    "\n",
    "# metatag is always a list. 'item_id' will pull the item_id metatag from the metadata. metatag_prefixes/suffixes adds text in the print stream to allow you to format the yielded return\n",
    "answer = vault.print_stream(vault.get_chat_stream(user_input2, history=history, get_context=True, return_context=True, metatag=['item_id'], metatag_prefixes=['\\n\\nItem: '], metatag_suffixes=['\\n']))"
   ]
  },
  {
   "cell_type": "code",
   "execution_count": null,
   "metadata": {},
   "outputs": [],
   "source": [
    "user_input3 = input(\"What's your next question?: \")\n",
    "print(\"Question:\", f\"\\n{wrap(user_input3)}\")\n",
    "\n",
    "history = history + user_input2 + answer\n",
    "\n",
    "# Get response from Language model\n",
    "answer = vault.print_stream(vault.get_chat_stream(user_input3, get_context=True))\n"
   ]
  }
 ],
 "metadata": {
  "kernelspec": {
   "display_name": "base",
   "language": "python",
   "name": "python3"
  },
  "language_info": {
   "codemirror_mode": {
    "name": "ipython",
    "version": 3
   },
   "file_extension": ".py",
   "mimetype": "text/x-python",
   "name": "python",
   "nbconvert_exporter": "python",
   "pygments_lexer": "ipython3",
   "version": "3.10.9"
  },
  "orig_nbformat": 4
 },
 "nbformat": 4,
 "nbformat_minor": 2
}
