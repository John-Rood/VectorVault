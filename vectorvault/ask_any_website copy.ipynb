{
 "cells": [
  {
   "attachments": {},
   "cell_type": "markdown",
   "metadata": {
    "colab_type": "text",
    "id": "view-in-github"
   },
   "source": [
    "<a href=\"https://colab.research.google.com/drive/1j0Wnj0qLUHgjjkNxUk82FmP9aiPnXvoH\" target=\"_parent\"><img src=\"https://colab.research.google.com/assets/colab-badge.svg\" alt=\"Open In Colab\"/></a>"
   ]
  },
  {
   "attachments": {},
   "cell_type": "markdown",
   "metadata": {},
   "source": [
    "# Install VectorVault\n",
    "If you don't have an account, you can sign up for free at [VectorVault.io](https://vectorvault.io)"
   ]
  },
  {
   "cell_type": "code",
   "execution_count": null,
   "metadata": {},
   "outputs": [],
   "source": [
    "!pip install vector-vault "
   ]
  },
  {
   "attachments": {},
   "cell_type": "markdown",
   "metadata": {},
   "source": [
    "Set OpenAI API Key as an Environment Variable"
   ]
  },
  {
   "cell_type": "code",
   "execution_count": null,
   "metadata": {},
   "outputs": [],
   "source": [
    "%env OPENAI_API_KEY = YOUR_OPENAI_API_KEY"
   ]
  },
  {
   "attachments": {},
   "cell_type": "markdown",
   "metadata": {},
   "source": [
    "# Connect to VectorVault\n",
    "If you don't have a VectorVault api key, you can sign up for free at [VectorVault.io](https://vectorvault.io)\n",
    "\n",
    "In the following code, we import the main Vault class, as well as the text wrap function for nice looking prints, and the download_url function that downloads any url as text. "
   ]
  },
  {
   "cell_type": "code",
   "execution_count": null,
   "metadata": {},
   "outputs": [],
   "source": [
    "from vectorvault import Vault, wrap, download_url \n",
    "\n",
    "vault = Vault(user='YOUR_VECTOR_VAULT_USER_ID', api_key='YOUR_VECTOR_VAULT_API_KEY', vault='webdump', verbose=True)"
   ]
  },
  {
   "attachments": {},
   "cell_type": "markdown",
   "metadata": {},
   "source": [
    "\n",
    "# Download Website and Summarize\n",
    "Use the defualt url provided to learn about NASA's Mars mission or enter a custom url. This saves it to a variable called \"text_data\"\n",
    "\n",
    "Then we use the get_chat() function with \"summary=True\" to get a summary of the text input. We print it, and add it to the original text_data. \"Verbose=True\" to see what is going on inside."
   ]
  },
  {
   "cell_type": "code",
   "execution_count": null,
   "metadata": {},
   "outputs": [],
   "source": [
    "text_data = download_url(\"https://mars.nasa.gov/\")\n",
    "\n",
    "summary = vault.get_chat(text_data, summary=True)\n",
    "\n",
    "print(wrap(summary))"
   ]
  },
  {
   "attachments": {},
   "cell_type": "markdown",
   "metadata": {},
   "source": [
    "# Save Website Data to Vault"
   ]
  },
  {
   "cell_type": "code",
   "execution_count": null,
   "metadata": {},
   "outputs": [],
   "source": [
    "text_data = summary + '\\n' + text_data # combine the summary\n",
    "\n",
    "# Prepare the data to be processed with add()\n",
    "vault.add(text_data)\n",
    "\n",
    "# Get embeddings \n",
    "vault.get_vectors()\n",
    "\n",
    "# Save to Vault\n",
    "vault.save()"
   ]
  },
  {
   "attachments": {},
   "cell_type": "markdown",
   "metadata": {},
   "source": [
    "# Ask Your Question"
   ]
  },
  {
   "cell_type": "code",
   "execution_count": null,
   "metadata": {},
   "outputs": [],
   "source": [
    "user_input = input(\"What's your next question?: \")\n",
    "\n",
    "# Get response from Language model\n",
    "answer = vault.get_chat(user_input, get_context=True)\n",
    "\n",
    "print(\"Question:\", f\"\\n{wrap(user_input)}\", \"\\n\\nAnswer:\", f\"\\n{wrap(answer)}\")"
   ]
  },
  {
   "attachments": {},
   "cell_type": "markdown",
   "metadata": {},
   "source": [
    "<br>\n",
    "\n",
    "## Continued Questioning with Sources\n",
    "In this response, we add conversation history to to the \"get_chat()\" function. We also print the source context that the llm uses for the response. (Since the sources are returned along with the response, it comes in the form of a dictionary)"
   ]
  },
  {
   "cell_type": "code",
   "execution_count": null,
   "metadata": {},
   "outputs": [],
   "source": [
    "user_input2 = input(\"What's your question?: \")\n",
    "\n",
    "history = user_input + answer\n",
    "\n",
    "# Get response from Language model\n",
    "vault_response = vault.get_chat(user_input2, history=history, get_context=True, return_context=True)\n",
    "\n",
    "answer = vault_response['response']\n",
    "print(\"Question:\", f\"\\n{wrap(user_input2)}\", \"\\n\\nAnswer:\", f\"\\n{wrap(answer)}\")\n",
    "\n",
    "# show the context used to generate the answer\n",
    "for item in vault_response['context']['results']:\n",
    "    print(\"\\n\\n\", f\"item {item['metadata']['item_id']}\")\n",
    "    print(wrap(item['data']))"
   ]
  },
  {
   "cell_type": "code",
   "execution_count": null,
   "metadata": {},
   "outputs": [],
   "source": [
    "user_input3 = input(\"What's your next question?\")\n",
    "\n",
    "history = history + user_input2 + answer\n",
    "\n",
    "# Get response from Language model\n",
    "response = vault.get_chat(user_input3, history=history, get_context=True)\n",
    "\n",
    "print(\"Question:\", f\"\\n{wrap(user_input3)}\", \"\\n\\nAnswer:\", f\"\\n{wrap(response)}\")\n"
   ]
  }
 ],
 "metadata": {
  "kernelspec": {
   "display_name": "base",
   "language": "python",
   "name": "python3"
  },
  "language_info": {
   "codemirror_mode": {
    "name": "ipython",
    "version": 3
   },
   "file_extension": ".py",
   "mimetype": "text/x-python",
   "name": "python",
   "nbconvert_exporter": "python",
   "pygments_lexer": "ipython3",
   "version": "3.10.9"
  },
  "orig_nbformat": 4
 },
 "nbformat": 4,
 "nbformat_minor": 2
}
